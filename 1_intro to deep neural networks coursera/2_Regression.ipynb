{
 "cells": [
  {
   "cell_type": "markdown",
   "id": "701048de-7a54-48c4-b441-9d3ddc412e2f",
   "metadata": {},
   "source": [
    "<a href=\"https://cognitiveclass.ai/?utm_medium=Exinfluencer&utm_source=Exinfluencer&utm_content=000026UJ&utm_term=10006555&utm_id=NA-SkillsNetwork-Channel-SkillsNetworkCoursesIBMDeveloperSkillsNetworkDL0101ENSkillsNetwork945-2022-01-01\"><img src=\"https://cf-courses-data.s3.us.cloud-object-storage.appdomain.cloud/IBMDeveloperSkillsNetwork-DL0101EN-SkillsNetwork/images/IDSN-logo.png\" width=\"400\"> </a>\n",
    "\n",
    "<h1 align=center><font size = 5>Regression Models with Keras</font></h1>\n"
   ]
  },
  {
   "cell_type": "markdown",
   "id": "bbaea2bd-fdfa-4cf2-a527-4a247a75ac0c",
   "metadata": {},
   "source": [
    "## Introduction\n"
   ]
  },
  {
   "cell_type": "markdown",
   "id": "aae0d793-e6d6-4e53-80fe-181ef4308c2a",
   "metadata": {},
   "source": [
    "As we discussed in the videos, despite the popularity of more powerful libraries such as PyToch and TensorFlow, they are not easy to use and have a steep learning curve. So, for people who are just starting to learn deep learning, there is no better library to use other than the Keras library. \n",
    "\n",
    "Keras is a high-level API for building deep learning models. It has gained favor for its ease of use and syntactic simplicity facilitating fast development. As you will see in this lab and the other labs in this course, building a very complex deep learning network can be achieved with Keras with only few lines of code. You will appreciate Keras even more, once you learn how to build deep models using PyTorch and TensorFlow in the other courses.\n",
    "\n",
    "So, in this lab, you will learn how to use the Keras library to build a regression model.\n"
   ]
  },
  {
   "cell_type": "markdown",
   "id": "022a0ec2-3cea-417e-8889-5c65caf971f0",
   "metadata": {},
   "source": [
    "<h2>Regression Models with Keras</h2>\n",
    "\n",
    "<h3>Objective for this Notebook<h3>    \n",
    "<h5> 1. How to use the Keras library to build a regression model.</h5>\n",
    "<h5> 2. Download and Clean dataset </h5>\n",
    "<h5> 3. Build a Neural Network </h5>\n",
    "<h5> 4. Train and Test the Network. </h5>     \n",
    "\n"
   ]
  },
  {
   "cell_type": "markdown",
   "id": "ee476fb0-f7f9-4ee3-a8ca-5c9bb62056cd",
   "metadata": {},
   "source": [
    "## Table of Contents\n",
    "\n",
    "<div class=\"alert alert-block alert-info\" style=\"margin-top: 20px\">\n",
    "\n",
    "<font size = 3>\n",
    "    \n",
    "1. <a href=\"#item31\">Download and Clean Dataset</a>  \n",
    "2. <a href=\"#item32\">Import Keras</a>  \n",
    "3. <a href=\"#item33\">Build a Neural Network</a>  \n",
    "4. <a href=\"#item34\">Train and Test the Network</a>  \n",
    "\n",
    "</font>\n",
    "</div>\n"
   ]
  },
  {
   "cell_type": "markdown",
   "id": "7efcf931-5ad5-4324-ab17-31aa0e2b977a",
   "metadata": {},
   "source": [
    "<a id=\"item31\"></a>\n"
   ]
  },
  {
   "cell_type": "markdown",
   "id": "b1ea8f0d-afcb-48cf-90c1-cdd14bbebde5",
   "metadata": {},
   "source": [
    "## Download and Clean Dataset\n"
   ]
  },
  {
   "cell_type": "markdown",
   "id": "ec856cd2-190b-4644-92f7-77fce8ebb882",
   "metadata": {},
   "source": [
    "Let's start by importing the <em>pandas</em> and the Numpy libraries.\n"
   ]
  },
  {
   "cell_type": "code",
   "execution_count": 1,
   "id": "37a30258-fcff-40db-96cb-789ca9060680",
   "metadata": {},
   "outputs": [],
   "source": [
    "# All Libraries required for this lab are listed below. The libraries pre-installed on Skills Network Labs are commented. \n",
    "# If you run this notebook on a different environment, e.g. your desktop, you may need to uncomment and install certain libraries.\n",
    "\n",
    "#!pip install numpy==1.21.4\n",
    "#!pip install pandas==1.3.4\n",
    "#!pip install keras==2.1.6"
   ]
  },
  {
   "cell_type": "code",
   "execution_count": 2,
   "id": "d8c79c74-f278-4db8-94f5-c9101c2e9881",
   "metadata": {},
   "outputs": [],
   "source": [
    "import pandas as pd\n",
    "import numpy as np"
   ]
  },
  {
   "cell_type": "markdown",
   "id": "b4e0dcc2-99b1-466c-8086-6712cc5b40e4",
   "metadata": {},
   "source": [
    "We will be playing around with the same dataset that we used in the videos.\n",
    "\n",
    "<strong>The dataset is about the compressive strength of different samples of concrete based on the volumes of the different ingredients that were used to make them. Ingredients include:</strong>\n",
    "\n",
    "<strong>1. Cement</strong>\n",
    "\n",
    "<strong>2. Blast Furnace Slag</strong>\n",
    "\n",
    "<strong>3. Fly Ash</strong>\n",
    "\n",
    "<strong>4. Water</strong>\n",
    "\n",
    "<strong>5. Superplasticizer</strong>\n",
    "\n",
    "<strong>6. Coarse Aggregate</strong>\n",
    "\n",
    "<strong>7. Fine Aggregate</strong>\n"
   ]
  },
  {
   "cell_type": "markdown",
   "id": "6be3d86c-1d4d-43c2-88d0-0f4f681a331a",
   "metadata": {},
   "source": [
    "Let's download the data and read it into a <em>pandas</em> dataframe.\n"
   ]
  },
  {
   "cell_type": "code",
   "execution_count": 3,
   "id": "d2a0e8cf-4872-406f-ae9f-7bbd13de4868",
   "metadata": {},
   "outputs": [
    {
     "data": {
      "text/html": [
       "<div>\n",
       "<style scoped>\n",
       "    .dataframe tbody tr th:only-of-type {\n",
       "        vertical-align: middle;\n",
       "    }\n",
       "\n",
       "    .dataframe tbody tr th {\n",
       "        vertical-align: top;\n",
       "    }\n",
       "\n",
       "    .dataframe thead th {\n",
       "        text-align: right;\n",
       "    }\n",
       "</style>\n",
       "<table border=\"1\" class=\"dataframe\">\n",
       "  <thead>\n",
       "    <tr style=\"text-align: right;\">\n",
       "      <th></th>\n",
       "      <th>Cement</th>\n",
       "      <th>Blast Furnace Slag</th>\n",
       "      <th>Fly Ash</th>\n",
       "      <th>Water</th>\n",
       "      <th>Superplasticizer</th>\n",
       "      <th>Coarse Aggregate</th>\n",
       "      <th>Fine Aggregate</th>\n",
       "      <th>Age</th>\n",
       "      <th>Strength</th>\n",
       "    </tr>\n",
       "  </thead>\n",
       "  <tbody>\n",
       "    <tr>\n",
       "      <th>0</th>\n",
       "      <td>540.0</td>\n",
       "      <td>0.0</td>\n",
       "      <td>0.0</td>\n",
       "      <td>162.0</td>\n",
       "      <td>2.5</td>\n",
       "      <td>1040.0</td>\n",
       "      <td>676.0</td>\n",
       "      <td>28</td>\n",
       "      <td>79.99</td>\n",
       "    </tr>\n",
       "    <tr>\n",
       "      <th>1</th>\n",
       "      <td>540.0</td>\n",
       "      <td>0.0</td>\n",
       "      <td>0.0</td>\n",
       "      <td>162.0</td>\n",
       "      <td>2.5</td>\n",
       "      <td>1055.0</td>\n",
       "      <td>676.0</td>\n",
       "      <td>28</td>\n",
       "      <td>61.89</td>\n",
       "    </tr>\n",
       "    <tr>\n",
       "      <th>2</th>\n",
       "      <td>332.5</td>\n",
       "      <td>142.5</td>\n",
       "      <td>0.0</td>\n",
       "      <td>228.0</td>\n",
       "      <td>0.0</td>\n",
       "      <td>932.0</td>\n",
       "      <td>594.0</td>\n",
       "      <td>270</td>\n",
       "      <td>40.27</td>\n",
       "    </tr>\n",
       "    <tr>\n",
       "      <th>3</th>\n",
       "      <td>332.5</td>\n",
       "      <td>142.5</td>\n",
       "      <td>0.0</td>\n",
       "      <td>228.0</td>\n",
       "      <td>0.0</td>\n",
       "      <td>932.0</td>\n",
       "      <td>594.0</td>\n",
       "      <td>365</td>\n",
       "      <td>41.05</td>\n",
       "    </tr>\n",
       "    <tr>\n",
       "      <th>4</th>\n",
       "      <td>198.6</td>\n",
       "      <td>132.4</td>\n",
       "      <td>0.0</td>\n",
       "      <td>192.0</td>\n",
       "      <td>0.0</td>\n",
       "      <td>978.4</td>\n",
       "      <td>825.5</td>\n",
       "      <td>360</td>\n",
       "      <td>44.30</td>\n",
       "    </tr>\n",
       "  </tbody>\n",
       "</table>\n",
       "</div>"
      ],
      "text/plain": [
       "   Cement  Blast Furnace Slag  Fly Ash  Water  Superplasticizer  \\\n",
       "0   540.0                 0.0      0.0  162.0               2.5   \n",
       "1   540.0                 0.0      0.0  162.0               2.5   \n",
       "2   332.5               142.5      0.0  228.0               0.0   \n",
       "3   332.5               142.5      0.0  228.0               0.0   \n",
       "4   198.6               132.4      0.0  192.0               0.0   \n",
       "\n",
       "   Coarse Aggregate  Fine Aggregate  Age  Strength  \n",
       "0            1040.0           676.0   28     79.99  \n",
       "1            1055.0           676.0   28     61.89  \n",
       "2             932.0           594.0  270     40.27  \n",
       "3             932.0           594.0  365     41.05  \n",
       "4             978.4           825.5  360     44.30  "
      ]
     },
     "execution_count": 3,
     "metadata": {},
     "output_type": "execute_result"
    }
   ],
   "source": [
    "concrete_data = pd.read_csv('https://s3-api.us-geo.objectstorage.softlayer.net/cf-courses-data/CognitiveClass/DL0101EN/labs/data/concrete_data.csv')\n",
    "concrete_data.head()"
   ]
  },
  {
   "cell_type": "markdown",
   "id": "2469361b-b36c-4ea0-9687-1d913f38ca0c",
   "metadata": {},
   "source": [
    "So the first concrete sample has 540 cubic meter of cement, 0 cubic meter of blast furnace slag, 0 cubic meter of fly ash, 162 cubic meter of water, 2.5 cubic meter of superplaticizer, 1040 cubic meter of coarse aggregate, 676 cubic meter of fine aggregate. Such a concrete mix which is 28 days old, has a compressive strength of 79.99 MPa. \n"
   ]
  },
  {
   "cell_type": "markdown",
   "id": "d709c0e6-fd74-4682-bd73-7512fc9d654f",
   "metadata": {},
   "source": [
    "#### Let's check how many data points we have.\n"
   ]
  },
  {
   "cell_type": "code",
   "execution_count": 4,
   "id": "bb271395-98f0-42b8-8376-870dc5f4e0b6",
   "metadata": {},
   "outputs": [
    {
     "data": {
      "text/plain": [
       "(1030, 9)"
      ]
     },
     "execution_count": 4,
     "metadata": {},
     "output_type": "execute_result"
    }
   ],
   "source": [
    "concrete_data.shape"
   ]
  },
  {
   "cell_type": "markdown",
   "id": "34eae67d-3db4-4505-91fb-a7586a5e2688",
   "metadata": {},
   "source": [
    "So, there are approximately 1000 samples to train our model on. Because of the few samples, we have to be careful not to overfit the training data.\n"
   ]
  },
  {
   "cell_type": "markdown",
   "id": "fff37414-8422-49bd-a001-2106c5b88ac1",
   "metadata": {},
   "source": [
    "Let's check the dataset for any missing values.\n"
   ]
  },
  {
   "cell_type": "code",
   "execution_count": 5,
   "id": "d2de8710-0378-4002-9a6f-c458b594e2d4",
   "metadata": {},
   "outputs": [
    {
     "data": {
      "text/html": [
       "<div>\n",
       "<style scoped>\n",
       "    .dataframe tbody tr th:only-of-type {\n",
       "        vertical-align: middle;\n",
       "    }\n",
       "\n",
       "    .dataframe tbody tr th {\n",
       "        vertical-align: top;\n",
       "    }\n",
       "\n",
       "    .dataframe thead th {\n",
       "        text-align: right;\n",
       "    }\n",
       "</style>\n",
       "<table border=\"1\" class=\"dataframe\">\n",
       "  <thead>\n",
       "    <tr style=\"text-align: right;\">\n",
       "      <th></th>\n",
       "      <th>Cement</th>\n",
       "      <th>Blast Furnace Slag</th>\n",
       "      <th>Fly Ash</th>\n",
       "      <th>Water</th>\n",
       "      <th>Superplasticizer</th>\n",
       "      <th>Coarse Aggregate</th>\n",
       "      <th>Fine Aggregate</th>\n",
       "      <th>Age</th>\n",
       "      <th>Strength</th>\n",
       "    </tr>\n",
       "  </thead>\n",
       "  <tbody>\n",
       "    <tr>\n",
       "      <th>count</th>\n",
       "      <td>1030.000000</td>\n",
       "      <td>1030.000000</td>\n",
       "      <td>1030.000000</td>\n",
       "      <td>1030.000000</td>\n",
       "      <td>1030.000000</td>\n",
       "      <td>1030.000000</td>\n",
       "      <td>1030.000000</td>\n",
       "      <td>1030.000000</td>\n",
       "      <td>1030.000000</td>\n",
       "    </tr>\n",
       "    <tr>\n",
       "      <th>mean</th>\n",
       "      <td>281.167864</td>\n",
       "      <td>73.895825</td>\n",
       "      <td>54.188350</td>\n",
       "      <td>181.567282</td>\n",
       "      <td>6.204660</td>\n",
       "      <td>972.918932</td>\n",
       "      <td>773.580485</td>\n",
       "      <td>45.662136</td>\n",
       "      <td>35.817961</td>\n",
       "    </tr>\n",
       "    <tr>\n",
       "      <th>std</th>\n",
       "      <td>104.506364</td>\n",
       "      <td>86.279342</td>\n",
       "      <td>63.997004</td>\n",
       "      <td>21.354219</td>\n",
       "      <td>5.973841</td>\n",
       "      <td>77.753954</td>\n",
       "      <td>80.175980</td>\n",
       "      <td>63.169912</td>\n",
       "      <td>16.705742</td>\n",
       "    </tr>\n",
       "    <tr>\n",
       "      <th>min</th>\n",
       "      <td>102.000000</td>\n",
       "      <td>0.000000</td>\n",
       "      <td>0.000000</td>\n",
       "      <td>121.800000</td>\n",
       "      <td>0.000000</td>\n",
       "      <td>801.000000</td>\n",
       "      <td>594.000000</td>\n",
       "      <td>1.000000</td>\n",
       "      <td>2.330000</td>\n",
       "    </tr>\n",
       "    <tr>\n",
       "      <th>25%</th>\n",
       "      <td>192.375000</td>\n",
       "      <td>0.000000</td>\n",
       "      <td>0.000000</td>\n",
       "      <td>164.900000</td>\n",
       "      <td>0.000000</td>\n",
       "      <td>932.000000</td>\n",
       "      <td>730.950000</td>\n",
       "      <td>7.000000</td>\n",
       "      <td>23.710000</td>\n",
       "    </tr>\n",
       "    <tr>\n",
       "      <th>50%</th>\n",
       "      <td>272.900000</td>\n",
       "      <td>22.000000</td>\n",
       "      <td>0.000000</td>\n",
       "      <td>185.000000</td>\n",
       "      <td>6.400000</td>\n",
       "      <td>968.000000</td>\n",
       "      <td>779.500000</td>\n",
       "      <td>28.000000</td>\n",
       "      <td>34.445000</td>\n",
       "    </tr>\n",
       "    <tr>\n",
       "      <th>75%</th>\n",
       "      <td>350.000000</td>\n",
       "      <td>142.950000</td>\n",
       "      <td>118.300000</td>\n",
       "      <td>192.000000</td>\n",
       "      <td>10.200000</td>\n",
       "      <td>1029.400000</td>\n",
       "      <td>824.000000</td>\n",
       "      <td>56.000000</td>\n",
       "      <td>46.135000</td>\n",
       "    </tr>\n",
       "    <tr>\n",
       "      <th>max</th>\n",
       "      <td>540.000000</td>\n",
       "      <td>359.400000</td>\n",
       "      <td>200.100000</td>\n",
       "      <td>247.000000</td>\n",
       "      <td>32.200000</td>\n",
       "      <td>1145.000000</td>\n",
       "      <td>992.600000</td>\n",
       "      <td>365.000000</td>\n",
       "      <td>82.600000</td>\n",
       "    </tr>\n",
       "  </tbody>\n",
       "</table>\n",
       "</div>"
      ],
      "text/plain": [
       "            Cement  Blast Furnace Slag      Fly Ash        Water  \\\n",
       "count  1030.000000         1030.000000  1030.000000  1030.000000   \n",
       "mean    281.167864           73.895825    54.188350   181.567282   \n",
       "std     104.506364           86.279342    63.997004    21.354219   \n",
       "min     102.000000            0.000000     0.000000   121.800000   \n",
       "25%     192.375000            0.000000     0.000000   164.900000   \n",
       "50%     272.900000           22.000000     0.000000   185.000000   \n",
       "75%     350.000000          142.950000   118.300000   192.000000   \n",
       "max     540.000000          359.400000   200.100000   247.000000   \n",
       "\n",
       "       Superplasticizer  Coarse Aggregate  Fine Aggregate          Age  \\\n",
       "count       1030.000000       1030.000000     1030.000000  1030.000000   \n",
       "mean           6.204660        972.918932      773.580485    45.662136   \n",
       "std            5.973841         77.753954       80.175980    63.169912   \n",
       "min            0.000000        801.000000      594.000000     1.000000   \n",
       "25%            0.000000        932.000000      730.950000     7.000000   \n",
       "50%            6.400000        968.000000      779.500000    28.000000   \n",
       "75%           10.200000       1029.400000      824.000000    56.000000   \n",
       "max           32.200000       1145.000000      992.600000   365.000000   \n",
       "\n",
       "          Strength  \n",
       "count  1030.000000  \n",
       "mean     35.817961  \n",
       "std      16.705742  \n",
       "min       2.330000  \n",
       "25%      23.710000  \n",
       "50%      34.445000  \n",
       "75%      46.135000  \n",
       "max      82.600000  "
      ]
     },
     "execution_count": 5,
     "metadata": {},
     "output_type": "execute_result"
    }
   ],
   "source": [
    "concrete_data.describe()"
   ]
  },
  {
   "cell_type": "code",
   "execution_count": 6,
   "id": "691ea21d-a583-4183-9d7e-442da86aa485",
   "metadata": {},
   "outputs": [
    {
     "data": {
      "text/plain": [
       "Cement                0\n",
       "Blast Furnace Slag    0\n",
       "Fly Ash               0\n",
       "Water                 0\n",
       "Superplasticizer      0\n",
       "Coarse Aggregate      0\n",
       "Fine Aggregate        0\n",
       "Age                   0\n",
       "Strength              0\n",
       "dtype: int64"
      ]
     },
     "execution_count": 6,
     "metadata": {},
     "output_type": "execute_result"
    }
   ],
   "source": [
    "concrete_data.isnull().sum()"
   ]
  },
  {
   "cell_type": "markdown",
   "id": "d31a4a08-b54a-4f2e-928b-676105401628",
   "metadata": {},
   "source": [
    "The data looks very clean and is ready to be used to build our model.\n"
   ]
  },
  {
   "cell_type": "markdown",
   "id": "bbe6524c-55c3-4fb9-a3e8-ed65f828c160",
   "metadata": {},
   "source": [
    "#### Split data into predictors and target\n"
   ]
  },
  {
   "cell_type": "markdown",
   "id": "fa62e25b-90cb-4a5c-b594-c172bacccbc8",
   "metadata": {},
   "source": [
    "The target variable in this problem is the concrete sample strength. Therefore, our predictors will be all the other columns.\n"
   ]
  },
  {
   "cell_type": "code",
   "execution_count": 7,
   "id": "36b3e2ff-fe91-4749-a277-aa418ced9999",
   "metadata": {},
   "outputs": [],
   "source": [
    "concrete_data_columns = concrete_data.columns\n",
    "\n",
    "predictors = concrete_data[concrete_data_columns[concrete_data_columns != 'Strength']] # all columns except Strength\n",
    "target = concrete_data['Strength'] # Strength column"
   ]
  },
  {
   "cell_type": "markdown",
   "id": "6de05c92-ce6b-45b0-89d9-8247e82cef24",
   "metadata": {},
   "source": [
    "<a id=\"item2\"></a>\n"
   ]
  },
  {
   "cell_type": "markdown",
   "id": "c7fc5dcc-2f7e-49ef-8f4f-029bd6949f42",
   "metadata": {},
   "source": [
    "Let's do a quick sanity check of the predictors and the target dataframes.\n"
   ]
  },
  {
   "cell_type": "code",
   "execution_count": 8,
   "id": "72fd40b0-b896-458e-8b01-5265e84b2f4f",
   "metadata": {},
   "outputs": [
    {
     "data": {
      "text/html": [
       "<div>\n",
       "<style scoped>\n",
       "    .dataframe tbody tr th:only-of-type {\n",
       "        vertical-align: middle;\n",
       "    }\n",
       "\n",
       "    .dataframe tbody tr th {\n",
       "        vertical-align: top;\n",
       "    }\n",
       "\n",
       "    .dataframe thead th {\n",
       "        text-align: right;\n",
       "    }\n",
       "</style>\n",
       "<table border=\"1\" class=\"dataframe\">\n",
       "  <thead>\n",
       "    <tr style=\"text-align: right;\">\n",
       "      <th></th>\n",
       "      <th>Cement</th>\n",
       "      <th>Blast Furnace Slag</th>\n",
       "      <th>Fly Ash</th>\n",
       "      <th>Water</th>\n",
       "      <th>Superplasticizer</th>\n",
       "      <th>Coarse Aggregate</th>\n",
       "      <th>Fine Aggregate</th>\n",
       "      <th>Age</th>\n",
       "    </tr>\n",
       "  </thead>\n",
       "  <tbody>\n",
       "    <tr>\n",
       "      <th>0</th>\n",
       "      <td>540.0</td>\n",
       "      <td>0.0</td>\n",
       "      <td>0.0</td>\n",
       "      <td>162.0</td>\n",
       "      <td>2.5</td>\n",
       "      <td>1040.0</td>\n",
       "      <td>676.0</td>\n",
       "      <td>28</td>\n",
       "    </tr>\n",
       "    <tr>\n",
       "      <th>1</th>\n",
       "      <td>540.0</td>\n",
       "      <td>0.0</td>\n",
       "      <td>0.0</td>\n",
       "      <td>162.0</td>\n",
       "      <td>2.5</td>\n",
       "      <td>1055.0</td>\n",
       "      <td>676.0</td>\n",
       "      <td>28</td>\n",
       "    </tr>\n",
       "    <tr>\n",
       "      <th>2</th>\n",
       "      <td>332.5</td>\n",
       "      <td>142.5</td>\n",
       "      <td>0.0</td>\n",
       "      <td>228.0</td>\n",
       "      <td>0.0</td>\n",
       "      <td>932.0</td>\n",
       "      <td>594.0</td>\n",
       "      <td>270</td>\n",
       "    </tr>\n",
       "    <tr>\n",
       "      <th>3</th>\n",
       "      <td>332.5</td>\n",
       "      <td>142.5</td>\n",
       "      <td>0.0</td>\n",
       "      <td>228.0</td>\n",
       "      <td>0.0</td>\n",
       "      <td>932.0</td>\n",
       "      <td>594.0</td>\n",
       "      <td>365</td>\n",
       "    </tr>\n",
       "    <tr>\n",
       "      <th>4</th>\n",
       "      <td>198.6</td>\n",
       "      <td>132.4</td>\n",
       "      <td>0.0</td>\n",
       "      <td>192.0</td>\n",
       "      <td>0.0</td>\n",
       "      <td>978.4</td>\n",
       "      <td>825.5</td>\n",
       "      <td>360</td>\n",
       "    </tr>\n",
       "  </tbody>\n",
       "</table>\n",
       "</div>"
      ],
      "text/plain": [
       "   Cement  Blast Furnace Slag  Fly Ash  Water  Superplasticizer  \\\n",
       "0   540.0                 0.0      0.0  162.0               2.5   \n",
       "1   540.0                 0.0      0.0  162.0               2.5   \n",
       "2   332.5               142.5      0.0  228.0               0.0   \n",
       "3   332.5               142.5      0.0  228.0               0.0   \n",
       "4   198.6               132.4      0.0  192.0               0.0   \n",
       "\n",
       "   Coarse Aggregate  Fine Aggregate  Age  \n",
       "0            1040.0           676.0   28  \n",
       "1            1055.0           676.0   28  \n",
       "2             932.0           594.0  270  \n",
       "3             932.0           594.0  365  \n",
       "4             978.4           825.5  360  "
      ]
     },
     "execution_count": 8,
     "metadata": {},
     "output_type": "execute_result"
    }
   ],
   "source": [
    "predictors.head()"
   ]
  },
  {
   "cell_type": "code",
   "execution_count": 9,
   "id": "aa50d52e-1237-4f54-9e74-3a6e53d6f492",
   "metadata": {},
   "outputs": [
    {
     "data": {
      "text/plain": [
       "0    79.99\n",
       "1    61.89\n",
       "2    40.27\n",
       "3    41.05\n",
       "4    44.30\n",
       "Name: Strength, dtype: float64"
      ]
     },
     "execution_count": 9,
     "metadata": {},
     "output_type": "execute_result"
    }
   ],
   "source": [
    "target.head()"
   ]
  },
  {
   "cell_type": "markdown",
   "id": "54adb38c-defc-4156-98a2-0125354acc5f",
   "metadata": {},
   "source": [
    "Finally, the last step is to normalize the data by substracting the mean and dividing by the standard deviation.\n"
   ]
  },
  {
   "cell_type": "code",
   "execution_count": 10,
   "id": "107277b0-9d5e-4ca1-8dcd-6ecea06ccfa7",
   "metadata": {},
   "outputs": [
    {
     "data": {
      "text/html": [
       "<div>\n",
       "<style scoped>\n",
       "    .dataframe tbody tr th:only-of-type {\n",
       "        vertical-align: middle;\n",
       "    }\n",
       "\n",
       "    .dataframe tbody tr th {\n",
       "        vertical-align: top;\n",
       "    }\n",
       "\n",
       "    .dataframe thead th {\n",
       "        text-align: right;\n",
       "    }\n",
       "</style>\n",
       "<table border=\"1\" class=\"dataframe\">\n",
       "  <thead>\n",
       "    <tr style=\"text-align: right;\">\n",
       "      <th></th>\n",
       "      <th>Cement</th>\n",
       "      <th>Blast Furnace Slag</th>\n",
       "      <th>Fly Ash</th>\n",
       "      <th>Water</th>\n",
       "      <th>Superplasticizer</th>\n",
       "      <th>Coarse Aggregate</th>\n",
       "      <th>Fine Aggregate</th>\n",
       "      <th>Age</th>\n",
       "    </tr>\n",
       "  </thead>\n",
       "  <tbody>\n",
       "    <tr>\n",
       "      <th>0</th>\n",
       "      <td>2.476712</td>\n",
       "      <td>-0.856472</td>\n",
       "      <td>-0.846733</td>\n",
       "      <td>-0.916319</td>\n",
       "      <td>-0.620147</td>\n",
       "      <td>0.862735</td>\n",
       "      <td>-1.217079</td>\n",
       "      <td>-0.279597</td>\n",
       "    </tr>\n",
       "    <tr>\n",
       "      <th>1</th>\n",
       "      <td>2.476712</td>\n",
       "      <td>-0.856472</td>\n",
       "      <td>-0.846733</td>\n",
       "      <td>-0.916319</td>\n",
       "      <td>-0.620147</td>\n",
       "      <td>1.055651</td>\n",
       "      <td>-1.217079</td>\n",
       "      <td>-0.279597</td>\n",
       "    </tr>\n",
       "    <tr>\n",
       "      <th>2</th>\n",
       "      <td>0.491187</td>\n",
       "      <td>0.795140</td>\n",
       "      <td>-0.846733</td>\n",
       "      <td>2.174405</td>\n",
       "      <td>-1.038638</td>\n",
       "      <td>-0.526262</td>\n",
       "      <td>-2.239829</td>\n",
       "      <td>3.551340</td>\n",
       "    </tr>\n",
       "    <tr>\n",
       "      <th>3</th>\n",
       "      <td>0.491187</td>\n",
       "      <td>0.795140</td>\n",
       "      <td>-0.846733</td>\n",
       "      <td>2.174405</td>\n",
       "      <td>-1.038638</td>\n",
       "      <td>-0.526262</td>\n",
       "      <td>-2.239829</td>\n",
       "      <td>5.055221</td>\n",
       "    </tr>\n",
       "    <tr>\n",
       "      <th>4</th>\n",
       "      <td>-0.790075</td>\n",
       "      <td>0.678079</td>\n",
       "      <td>-0.846733</td>\n",
       "      <td>0.488555</td>\n",
       "      <td>-1.038638</td>\n",
       "      <td>0.070492</td>\n",
       "      <td>0.647569</td>\n",
       "      <td>4.976069</td>\n",
       "    </tr>\n",
       "  </tbody>\n",
       "</table>\n",
       "</div>"
      ],
      "text/plain": [
       "     Cement  Blast Furnace Slag   Fly Ash     Water  Superplasticizer  \\\n",
       "0  2.476712           -0.856472 -0.846733 -0.916319         -0.620147   \n",
       "1  2.476712           -0.856472 -0.846733 -0.916319         -0.620147   \n",
       "2  0.491187            0.795140 -0.846733  2.174405         -1.038638   \n",
       "3  0.491187            0.795140 -0.846733  2.174405         -1.038638   \n",
       "4 -0.790075            0.678079 -0.846733  0.488555         -1.038638   \n",
       "\n",
       "   Coarse Aggregate  Fine Aggregate       Age  \n",
       "0          0.862735       -1.217079 -0.279597  \n",
       "1          1.055651       -1.217079 -0.279597  \n",
       "2         -0.526262       -2.239829  3.551340  \n",
       "3         -0.526262       -2.239829  5.055221  \n",
       "4          0.070492        0.647569  4.976069  "
      ]
     },
     "execution_count": 10,
     "metadata": {},
     "output_type": "execute_result"
    }
   ],
   "source": [
    "predictors_norm = (predictors - predictors.mean()) / predictors.std()\n",
    "predictors_norm.head()"
   ]
  },
  {
   "cell_type": "markdown",
   "id": "fdb24bf1-610f-4d16-99da-9aec9798b3e1",
   "metadata": {},
   "source": [
    "Let's save the number of predictors to *n_cols* since we will need this number when building our network.\n"
   ]
  },
  {
   "cell_type": "code",
   "execution_count": 11,
   "id": "72c21bc6-ee8c-4d1e-9a8c-700d7f7a648a",
   "metadata": {},
   "outputs": [],
   "source": [
    "n_cols = predictors_norm.shape[1] # number of predictors"
   ]
  },
  {
   "cell_type": "markdown",
   "id": "deaf62bf-fab4-47b4-b282-2f7e4ef0638a",
   "metadata": {},
   "source": [
    "<a id=\"item1\"></a>\n"
   ]
  },
  {
   "cell_type": "markdown",
   "id": "c7ad72d7-d37a-4cff-945b-e4424ede39f2",
   "metadata": {},
   "source": [
    "<a id='item32'></a>\n"
   ]
  },
  {
   "cell_type": "markdown",
   "id": "586f1914-04bc-4c2c-af43-63178902897e",
   "metadata": {},
   "source": [
    "## Import Keras\n"
   ]
  },
  {
   "cell_type": "markdown",
   "id": "0a777da9-1254-460c-a040-62cd694dba49",
   "metadata": {},
   "source": [
    "Recall from the videos that Keras normally runs on top of a low-level library such as TensorFlow. This means that to be able to use the Keras library, you will have to install TensorFlow first and when you import the Keras library, it will be explicitly displayed what backend was used to install the Keras library. In CC Labs, we used TensorFlow as the backend to install Keras, so it should clearly print that when we import Keras.\n"
   ]
  },
  {
   "cell_type": "markdown",
   "id": "fd147cc8-2e36-4bd6-a3a2-c4c9b9ed0c98",
   "metadata": {},
   "source": [
    "#### Let's go ahead and import the Keras library\n"
   ]
  },
  {
   "cell_type": "code",
   "execution_count": 12,
   "id": "8dc60b83-f197-4a3e-a3bf-97843f6236c8",
   "metadata": {},
   "outputs": [
    {
     "name": "stderr",
     "output_type": "stream",
     "text": [
      "2023-11-18 21:05:50.112759: I tensorflow/core/platform/cpu_feature_guard.cc:193] This TensorFlow binary is optimized with oneAPI Deep Neural Network Library (oneDNN) to use the following CPU instructions in performance-critical operations:  AVX2 FMA\n",
      "To enable them in other operations, rebuild TensorFlow with the appropriate compiler flags.\n",
      "2023-11-18 21:05:57.782864: W tensorflow/compiler/xla/stream_executor/platform/default/dso_loader.cc:64] Could not load dynamic library 'libcudart.so.11.0'; dlerror: libcudart.so.11.0: cannot open shared object file: No such file or directory\n",
      "2023-11-18 21:05:57.782926: I tensorflow/compiler/xla/stream_executor/cuda/cudart_stub.cc:29] Ignore above cudart dlerror if you do not have a GPU set up on your machine.\n",
      "2023-11-18 21:06:10.153906: W tensorflow/compiler/xla/stream_executor/platform/default/dso_loader.cc:64] Could not load dynamic library 'libnvinfer.so.7'; dlerror: libnvinfer.so.7: cannot open shared object file: No such file or directory\n",
      "2023-11-18 21:06:10.154362: W tensorflow/compiler/xla/stream_executor/platform/default/dso_loader.cc:64] Could not load dynamic library 'libnvinfer_plugin.so.7'; dlerror: libnvinfer_plugin.so.7: cannot open shared object file: No such file or directory\n",
      "2023-11-18 21:06:10.154403: W tensorflow/compiler/tf2tensorrt/utils/py_utils.cc:38] TF-TRT Warning: Cannot dlopen some TensorRT libraries. If you would like to use Nvidia GPU with TensorRT, please make sure the missing libraries mentioned above are installed properly.\n"
     ]
    }
   ],
   "source": [
    "import keras"
   ]
  },
  {
   "cell_type": "markdown",
   "id": "dd5fb0cb-497f-48f8-b150-f272bc2fac4a",
   "metadata": {},
   "source": [
    "As you can see, the TensorFlow backend was used to install the Keras library.\n"
   ]
  },
  {
   "cell_type": "markdown",
   "id": "33ae3534-8421-48ef-97ae-5bd58dbce395",
   "metadata": {},
   "source": [
    "Let's import the rest of the packages from the Keras library that we will need to build our regressoin model.\n"
   ]
  },
  {
   "cell_type": "code",
   "execution_count": 13,
   "id": "d57702ef-54f5-4485-a7b7-104f7c975f57",
   "metadata": {},
   "outputs": [],
   "source": [
    "from keras.models import Sequential\n",
    "from keras.layers import Dense"
   ]
  },
  {
   "cell_type": "markdown",
   "id": "f3169c0c-1f49-4ee4-ac0e-36d038a6690c",
   "metadata": {},
   "source": [
    "<a id='item33'></a>\n"
   ]
  },
  {
   "cell_type": "markdown",
   "id": "a49721c9-1ae0-43e1-80bb-7d87e21cb97a",
   "metadata": {},
   "source": [
    "## Build a Neural Network\n"
   ]
  },
  {
   "cell_type": "markdown",
   "id": "7f181e29-ad60-4a2a-8581-6f5c9e935d37",
   "metadata": {},
   "source": [
    "Let's define a function that defines our regression model for us so that we can conveniently call it to create our model.\n"
   ]
  },
  {
   "cell_type": "code",
   "execution_count": 14,
   "id": "5e70c37c-ad25-4b70-b056-f021ccba6177",
   "metadata": {},
   "outputs": [],
   "source": [
    "# define regression model\n",
    "def regression_model():\n",
    "    # create model\n",
    "    model = Sequential()\n",
    "    model.add(Dense(50, activation='relu', input_shape=(n_cols,)))\n",
    "    model.add(Dense(50, activation='relu'))\n",
    "    model.add(Dense(1))\n",
    "    \n",
    "    # compile model\n",
    "    model.compile(optimizer='adam', loss='mean_squared_error')\n",
    "    return model"
   ]
  },
  {
   "cell_type": "markdown",
   "id": "78496132-59ef-495f-b062-cbf6ef3cbc72",
   "metadata": {},
   "source": [
    "The above function create a model that has two hidden layers, each of 50 hidden units.\n"
   ]
  },
  {
   "cell_type": "markdown",
   "id": "b737d68b-a96b-48fe-9c5f-94d0d7e6b97b",
   "metadata": {},
   "source": [
    "<a id=\"item4\"></a>\n"
   ]
  },
  {
   "cell_type": "markdown",
   "id": "192d414a-951d-472e-ad0e-cf004a2f51ce",
   "metadata": {},
   "source": [
    "<a id='item34'></a>\n"
   ]
  },
  {
   "cell_type": "markdown",
   "id": "5961862e-19ff-4fd4-81a9-dfcce6cc9f8e",
   "metadata": {},
   "source": [
    "## Train and Test the Network\n"
   ]
  },
  {
   "cell_type": "markdown",
   "id": "9fd7a324-6b75-4689-aaa2-4a30ba85721d",
   "metadata": {},
   "source": [
    "Let's call the function now to create our model.\n"
   ]
  },
  {
   "cell_type": "code",
   "execution_count": 15,
   "id": "d02d1ac4-d56b-4879-ab94-9c156f690bbf",
   "metadata": {},
   "outputs": [
    {
     "name": "stderr",
     "output_type": "stream",
     "text": [
      "2023-11-18 21:06:19.069924: W tensorflow/compiler/xla/stream_executor/platform/default/dso_loader.cc:64] Could not load dynamic library 'libcuda.so.1'; dlerror: libcuda.so.1: cannot open shared object file: No such file or directory\n",
      "2023-11-18 21:06:19.111383: W tensorflow/compiler/xla/stream_executor/cuda/cuda_driver.cc:265] failed call to cuInit: UNKNOWN ERROR (303)\n",
      "2023-11-18 21:06:19.111465: I tensorflow/compiler/xla/stream_executor/cuda/cuda_diagnostics.cc:156] kernel driver does not appear to be running on this host (sikikompjuter): /proc/driver/nvidia/version does not exist\n",
      "2023-11-18 21:06:19.137679: I tensorflow/core/platform/cpu_feature_guard.cc:193] This TensorFlow binary is optimized with oneAPI Deep Neural Network Library (oneDNN) to use the following CPU instructions in performance-critical operations:  AVX2 FMA\n",
      "To enable them in other operations, rebuild TensorFlow with the appropriate compiler flags.\n"
     ]
    }
   ],
   "source": [
    "# build the model\n",
    "model = regression_model()"
   ]
  },
  {
   "cell_type": "markdown",
   "id": "5dcdc296-a32e-440f-afab-baa8d033f074",
   "metadata": {},
   "source": [
    "Next, we will train and test the model at the same time using the *fit* method. We will leave out 30% of the data for validation and we will train the model for 100 epochs.\n"
   ]
  },
  {
   "cell_type": "code",
   "execution_count": 16,
   "id": "7ebe5f26-9a52-4506-a777-b651608e3840",
   "metadata": {},
   "outputs": [
    {
     "name": "stdout",
     "output_type": "stream",
     "text": [
      "Epoch 1/100\n",
      "23/23 - 6s - loss: 1670.6967 - val_loss: 1172.8843 - 6s/epoch - 263ms/step\n",
      "Epoch 2/100\n",
      "23/23 - 0s - loss: 1561.3989 - val_loss: 1067.2300 - 162ms/epoch - 7ms/step\n",
      "Epoch 3/100\n",
      "23/23 - 0s - loss: 1391.6635 - val_loss: 895.3856 - 131ms/epoch - 6ms/step\n",
      "Epoch 4/100\n",
      "23/23 - 0s - loss: 1116.8651 - val_loss: 659.4283 - 159ms/epoch - 7ms/step\n",
      "Epoch 5/100\n",
      "23/23 - 0s - loss: 767.4130 - val_loss: 408.3226 - 172ms/epoch - 7ms/step\n",
      "Epoch 6/100\n",
      "23/23 - 0s - loss: 442.7136 - val_loss: 245.0137 - 152ms/epoch - 7ms/step\n",
      "Epoch 7/100\n",
      "23/23 - 0s - loss: 278.7646 - val_loss: 190.0006 - 113ms/epoch - 5ms/step\n",
      "Epoch 8/100\n",
      "23/23 - 0s - loss: 232.8990 - val_loss: 177.5256 - 110ms/epoch - 5ms/step\n",
      "Epoch 9/100\n",
      "23/23 - 0s - loss: 214.5146 - val_loss: 174.5553 - 152ms/epoch - 7ms/step\n",
      "Epoch 10/100\n",
      "23/23 - 0s - loss: 203.0737 - val_loss: 169.1435 - 106ms/epoch - 5ms/step\n",
      "Epoch 11/100\n",
      "23/23 - 0s - loss: 193.6192 - val_loss: 171.2710 - 132ms/epoch - 6ms/step\n",
      "Epoch 12/100\n",
      "23/23 - 0s - loss: 186.2056 - val_loss: 169.1254 - 156ms/epoch - 7ms/step\n",
      "Epoch 13/100\n",
      "23/23 - 0s - loss: 180.9179 - val_loss: 168.0812 - 186ms/epoch - 8ms/step\n",
      "Epoch 14/100\n",
      "23/23 - 0s - loss: 174.7280 - val_loss: 167.9410 - 185ms/epoch - 8ms/step\n",
      "Epoch 15/100\n",
      "23/23 - 0s - loss: 170.7238 - val_loss: 166.8723 - 194ms/epoch - 8ms/step\n",
      "Epoch 16/100\n",
      "23/23 - 0s - loss: 167.4662 - val_loss: 165.8433 - 200ms/epoch - 9ms/step\n",
      "Epoch 17/100\n",
      "23/23 - 0s - loss: 163.7253 - val_loss: 167.3382 - 330ms/epoch - 14ms/step\n",
      "Epoch 18/100\n",
      "23/23 - 0s - loss: 160.6235 - val_loss: 167.0356 - 217ms/epoch - 9ms/step\n",
      "Epoch 19/100\n",
      "23/23 - 0s - loss: 157.7078 - val_loss: 167.1004 - 209ms/epoch - 9ms/step\n",
      "Epoch 20/100\n",
      "23/23 - 0s - loss: 155.2561 - val_loss: 166.6861 - 232ms/epoch - 10ms/step\n",
      "Epoch 21/100\n",
      "23/23 - 0s - loss: 152.7243 - val_loss: 167.2310 - 220ms/epoch - 10ms/step\n",
      "Epoch 22/100\n",
      "23/23 - 0s - loss: 150.8204 - val_loss: 167.9043 - 197ms/epoch - 9ms/step\n",
      "Epoch 23/100\n",
      "23/23 - 0s - loss: 148.0388 - val_loss: 167.7209 - 218ms/epoch - 9ms/step\n",
      "Epoch 24/100\n",
      "23/23 - 0s - loss: 148.0636 - val_loss: 169.1948 - 218ms/epoch - 9ms/step\n",
      "Epoch 25/100\n",
      "23/23 - 0s - loss: 145.2946 - val_loss: 166.4622 - 202ms/epoch - 9ms/step\n",
      "Epoch 26/100\n",
      "23/23 - 0s - loss: 143.0016 - val_loss: 169.1181 - 209ms/epoch - 9ms/step\n",
      "Epoch 27/100\n",
      "23/23 - 0s - loss: 141.9721 - val_loss: 170.1973 - 209ms/epoch - 9ms/step\n",
      "Epoch 28/100\n",
      "23/23 - 0s - loss: 140.4905 - val_loss: 169.4714 - 175ms/epoch - 8ms/step\n",
      "Epoch 29/100\n",
      "23/23 - 0s - loss: 138.8658 - val_loss: 168.7621 - 186ms/epoch - 8ms/step\n",
      "Epoch 30/100\n",
      "23/23 - 0s - loss: 137.4557 - val_loss: 169.8825 - 237ms/epoch - 10ms/step\n",
      "Epoch 31/100\n",
      "23/23 - 0s - loss: 136.6103 - val_loss: 164.4991 - 153ms/epoch - 7ms/step\n",
      "Epoch 32/100\n",
      "23/23 - 0s - loss: 134.6557 - val_loss: 172.9028 - 163ms/epoch - 7ms/step\n",
      "Epoch 33/100\n",
      "23/23 - 0s - loss: 133.2641 - val_loss: 167.6735 - 189ms/epoch - 8ms/step\n",
      "Epoch 34/100\n",
      "23/23 - 0s - loss: 132.3811 - val_loss: 169.4964 - 183ms/epoch - 8ms/step\n",
      "Epoch 35/100\n",
      "23/23 - 0s - loss: 131.6208 - val_loss: 168.5519 - 204ms/epoch - 9ms/step\n",
      "Epoch 36/100\n",
      "23/23 - 0s - loss: 129.9210 - val_loss: 167.8412 - 202ms/epoch - 9ms/step\n",
      "Epoch 37/100\n",
      "23/23 - 0s - loss: 129.1094 - val_loss: 167.6022 - 201ms/epoch - 9ms/step\n",
      "Epoch 38/100\n",
      "23/23 - 0s - loss: 127.4718 - val_loss: 169.5881 - 191ms/epoch - 8ms/step\n",
      "Epoch 39/100\n",
      "23/23 - 0s - loss: 126.4072 - val_loss: 168.6351 - 222ms/epoch - 10ms/step\n",
      "Epoch 40/100\n",
      "23/23 - 0s - loss: 125.4397 - val_loss: 164.7538 - 228ms/epoch - 10ms/step\n",
      "Epoch 41/100\n",
      "23/23 - 0s - loss: 124.1101 - val_loss: 166.2900 - 233ms/epoch - 10ms/step\n",
      "Epoch 42/100\n",
      "23/23 - 0s - loss: 123.0904 - val_loss: 164.5107 - 142ms/epoch - 6ms/step\n",
      "Epoch 43/100\n",
      "23/23 - 0s - loss: 121.8774 - val_loss: 162.1537 - 170ms/epoch - 7ms/step\n",
      "Epoch 44/100\n",
      "23/23 - 0s - loss: 120.4658 - val_loss: 170.5276 - 176ms/epoch - 8ms/step\n",
      "Epoch 45/100\n",
      "23/23 - 0s - loss: 119.2367 - val_loss: 161.6725 - 163ms/epoch - 7ms/step\n",
      "Epoch 46/100\n",
      "23/23 - 0s - loss: 118.0920 - val_loss: 163.9158 - 202ms/epoch - 9ms/step\n",
      "Epoch 47/100\n",
      "23/23 - 0s - loss: 116.9406 - val_loss: 161.2071 - 172ms/epoch - 7ms/step\n",
      "Epoch 48/100\n",
      "23/23 - 0s - loss: 115.6538 - val_loss: 159.8709 - 178ms/epoch - 8ms/step\n",
      "Epoch 49/100\n",
      "23/23 - 0s - loss: 113.8201 - val_loss: 160.9047 - 187ms/epoch - 8ms/step\n",
      "Epoch 50/100\n",
      "23/23 - 0s - loss: 112.3918 - val_loss: 156.9442 - 219ms/epoch - 10ms/step\n",
      "Epoch 51/100\n",
      "23/23 - 0s - loss: 110.2658 - val_loss: 160.2728 - 275ms/epoch - 12ms/step\n",
      "Epoch 52/100\n",
      "23/23 - 0s - loss: 108.4123 - val_loss: 156.4514 - 256ms/epoch - 11ms/step\n",
      "Epoch 53/100\n",
      "23/23 - 0s - loss: 106.2900 - val_loss: 153.8066 - 177ms/epoch - 8ms/step\n",
      "Epoch 54/100\n",
      "23/23 - 0s - loss: 104.4502 - val_loss: 156.4939 - 161ms/epoch - 7ms/step\n",
      "Epoch 55/100\n",
      "23/23 - 0s - loss: 102.5385 - val_loss: 154.1842 - 167ms/epoch - 7ms/step\n",
      "Epoch 56/100\n",
      "23/23 - 0s - loss: 100.6418 - val_loss: 150.1293 - 154ms/epoch - 7ms/step\n",
      "Epoch 57/100\n",
      "23/23 - 0s - loss: 98.3448 - val_loss: 150.1992 - 156ms/epoch - 7ms/step\n",
      "Epoch 58/100\n",
      "23/23 - 0s - loss: 95.6363 - val_loss: 150.7042 - 149ms/epoch - 6ms/step\n",
      "Epoch 59/100\n",
      "23/23 - 0s - loss: 94.1739 - val_loss: 149.5605 - 172ms/epoch - 7ms/step\n",
      "Epoch 60/100\n",
      "23/23 - 0s - loss: 92.0639 - val_loss: 149.7418 - 159ms/epoch - 7ms/step\n",
      "Epoch 61/100\n",
      "23/23 - 0s - loss: 89.0778 - val_loss: 144.5479 - 150ms/epoch - 7ms/step\n",
      "Epoch 62/100\n",
      "23/23 - 0s - loss: 86.6555 - val_loss: 149.7088 - 168ms/epoch - 7ms/step\n",
      "Epoch 63/100\n",
      "23/23 - 0s - loss: 85.2836 - val_loss: 141.8305 - 161ms/epoch - 7ms/step\n",
      "Epoch 64/100\n",
      "23/23 - 0s - loss: 82.6302 - val_loss: 147.1466 - 190ms/epoch - 8ms/step\n",
      "Epoch 65/100\n",
      "23/23 - 0s - loss: 81.0066 - val_loss: 148.4122 - 163ms/epoch - 7ms/step\n",
      "Epoch 66/100\n",
      "23/23 - 0s - loss: 77.8684 - val_loss: 138.2529 - 144ms/epoch - 6ms/step\n",
      "Epoch 67/100\n",
      "23/23 - 0s - loss: 75.9607 - val_loss: 143.2347 - 179ms/epoch - 8ms/step\n",
      "Epoch 68/100\n",
      "23/23 - 0s - loss: 73.7216 - val_loss: 141.6625 - 177ms/epoch - 8ms/step\n",
      "Epoch 69/100\n",
      "23/23 - 0s - loss: 71.8003 - val_loss: 138.5990 - 178ms/epoch - 8ms/step\n",
      "Epoch 70/100\n",
      "23/23 - 0s - loss: 69.9811 - val_loss: 143.0258 - 134ms/epoch - 6ms/step\n",
      "Epoch 71/100\n",
      "23/23 - 0s - loss: 68.0032 - val_loss: 132.1708 - 184ms/epoch - 8ms/step\n",
      "Epoch 72/100\n",
      "23/23 - 0s - loss: 66.7292 - val_loss: 132.5289 - 198ms/epoch - 9ms/step\n",
      "Epoch 73/100\n",
      "23/23 - 0s - loss: 64.5761 - val_loss: 143.5971 - 179ms/epoch - 8ms/step\n",
      "Epoch 74/100\n",
      "23/23 - 0s - loss: 62.6071 - val_loss: 133.2247 - 142ms/epoch - 6ms/step\n",
      "Epoch 75/100\n",
      "23/23 - 0s - loss: 61.6625 - val_loss: 140.7126 - 175ms/epoch - 8ms/step\n",
      "Epoch 76/100\n",
      "23/23 - 0s - loss: 59.0622 - val_loss: 131.6228 - 187ms/epoch - 8ms/step\n",
      "Epoch 77/100\n",
      "23/23 - 0s - loss: 58.0423 - val_loss: 136.5475 - 206ms/epoch - 9ms/step\n",
      "Epoch 78/100\n",
      "23/23 - 0s - loss: 56.5049 - val_loss: 133.6850 - 204ms/epoch - 9ms/step\n",
      "Epoch 79/100\n",
      "23/23 - 0s - loss: 54.8603 - val_loss: 133.9754 - 205ms/epoch - 9ms/step\n",
      "Epoch 80/100\n",
      "23/23 - 0s - loss: 53.6035 - val_loss: 132.5894 - 122ms/epoch - 5ms/step\n",
      "Epoch 81/100\n",
      "23/23 - 0s - loss: 52.3718 - val_loss: 132.1657 - 148ms/epoch - 6ms/step\n",
      "Epoch 82/100\n",
      "23/23 - 0s - loss: 51.2229 - val_loss: 133.8399 - 185ms/epoch - 8ms/step\n",
      "Epoch 83/100\n",
      "23/23 - 0s - loss: 49.9988 - val_loss: 140.4656 - 191ms/epoch - 8ms/step\n",
      "Epoch 84/100\n",
      "23/23 - 0s - loss: 48.8224 - val_loss: 137.2484 - 204ms/epoch - 9ms/step\n",
      "Epoch 85/100\n",
      "23/23 - 0s - loss: 48.0052 - val_loss: 134.7318 - 169ms/epoch - 7ms/step\n",
      "Epoch 86/100\n",
      "23/23 - 0s - loss: 47.2022 - val_loss: 142.8619 - 208ms/epoch - 9ms/step\n",
      "Epoch 87/100\n",
      "23/23 - 0s - loss: 45.4196 - val_loss: 127.6823 - 172ms/epoch - 7ms/step\n",
      "Epoch 88/100\n",
      "23/23 - 0s - loss: 44.4953 - val_loss: 135.0298 - 160ms/epoch - 7ms/step\n",
      "Epoch 89/100\n",
      "23/23 - 0s - loss: 43.9484 - val_loss: 141.1228 - 199ms/epoch - 9ms/step\n",
      "Epoch 90/100\n",
      "23/23 - 0s - loss: 43.2969 - val_loss: 133.1070 - 148ms/epoch - 6ms/step\n",
      "Epoch 91/100\n",
      "23/23 - 0s - loss: 43.2621 - val_loss: 145.7373 - 208ms/epoch - 9ms/step\n",
      "Epoch 92/100\n",
      "23/23 - 0s - loss: 41.4171 - val_loss: 128.1651 - 196ms/epoch - 9ms/step\n",
      "Epoch 93/100\n",
      "23/23 - 0s - loss: 41.0507 - val_loss: 139.9307 - 172ms/epoch - 7ms/step\n",
      "Epoch 94/100\n",
      "23/23 - 0s - loss: 40.4711 - val_loss: 125.3535 - 161ms/epoch - 7ms/step\n",
      "Epoch 95/100\n",
      "23/23 - 0s - loss: 39.3172 - val_loss: 129.9803 - 146ms/epoch - 6ms/step\n"
     ]
    },
    {
     "name": "stdout",
     "output_type": "stream",
     "text": [
      "Epoch 96/100\n",
      "23/23 - 0s - loss: 38.8857 - val_loss: 144.9082 - 128ms/epoch - 6ms/step\n",
      "Epoch 97/100\n",
      "23/23 - 0s - loss: 38.3798 - val_loss: 126.9875 - 130ms/epoch - 6ms/step\n",
      "Epoch 98/100\n",
      "23/23 - 0s - loss: 38.2009 - val_loss: 139.2908 - 176ms/epoch - 8ms/step\n",
      "Epoch 99/100\n",
      "23/23 - 0s - loss: 36.9609 - val_loss: 128.7032 - 179ms/epoch - 8ms/step\n",
      "Epoch 100/100\n",
      "23/23 - 0s - loss: 36.6452 - val_loss: 137.2235 - 182ms/epoch - 8ms/step\n"
     ]
    },
    {
     "data": {
      "text/plain": [
       "<keras.callbacks.History at 0x7f94240e0a00>"
      ]
     },
     "execution_count": 16,
     "metadata": {},
     "output_type": "execute_result"
    }
   ],
   "source": [
    "# fit the model\n",
    "model.fit(predictors_norm, target, validation_split=0.3, epochs=100, verbose=2)"
   ]
  },
  {
   "cell_type": "markdown",
   "id": "3d5114dd-f11c-4ca3-9b3a-ea440f164626",
   "metadata": {},
   "source": [
    "<strong>You can refer to this [link](https://keras.io/models/sequential/?utm_medium=Exinfluencer&utm_source=Exinfluencer&utm_content=000026UJ&utm_term=10006555&utm_id=NA-SkillsNetwork-Channel-SkillsNetworkCoursesIBMDeveloperSkillsNetworkDL0101ENSkillsNetwork945-2022-01-01) to learn about other functions that you can use for prediction or evaluation.</strong>\n"
   ]
  },
  {
   "cell_type": "markdown",
   "id": "dbeb9675-b233-4361-9c87-256854235211",
   "metadata": {},
   "source": [
    "Feel free to vary the following and note what impact each change has on the model's performance:\n",
    "\n",
    "1. Increase or decreate number of neurons in hidden layers\n",
    "2. Add more hidden layers\n",
    "3. Increase number of epochs\n"
   ]
  },
  {
   "cell_type": "markdown",
   "id": "63885dc9-f204-4ecc-a4bd-8aecd31246a8",
   "metadata": {},
   "source": [
    "### Thank you for completing this lab!\n",
    "\n",
    "This notebook was created by [Alex Aklson](https://www.linkedin.com/in/aklson/?utm_medium=Exinfluencer&utm_source=Exinfluencer&utm_content=000026UJ&utm_term=10006555&utm_id=NA-SkillsNetwork-Channel-SkillsNetworkCoursesIBMDeveloperSkillsNetworkDL0101ENSkillsNetwork945-2022-01-01). I hope you found this lab interesting and educational. Feel free to contact me if you have any questions!\n"
   ]
  },
  {
   "cell_type": "markdown",
   "id": "4cab296b-207d-4105-b544-37a12e0642fd",
   "metadata": {},
   "source": [
    "\n",
    "## Change Log\n",
    "\n",
    "|  Date (YYYY-MM-DD) |  Version | Changed By  |  Change Description |\n",
    "|---|---|---|---|\n",
    "| 2020-09-21  | 2.0  | Srishti  |  Migrated Lab to Markdown and added to course repo in GitLab |\n",
    "\n",
    "\n",
    "\n",
    "<hr>\n",
    "\n",
    "## <h3 align=\"center\"> © IBM Corporation 2020. All rights reserved. <h3/>\n"
   ]
  },
  {
   "cell_type": "markdown",
   "id": "67bd639d-9eaa-4f5f-ad93-8ae631980288",
   "metadata": {},
   "source": [
    "This notebook is part of a course on **Coursera** called *Introduction to Deep Learning & Neural Networks with Keras*. If you accessed this notebook outside the course, you can take this course online by clicking [here](https://cocl.us/DL0101EN_Coursera_Week3_LAB1).\n"
   ]
  },
  {
   "cell_type": "markdown",
   "id": "bbc69e6a-816d-4314-836e-dc097d67d86a",
   "metadata": {},
   "source": [
    "<hr>\n",
    "\n",
    "Copyright &copy; 2019 [IBM Developer Skills Network](https://cognitiveclass.ai/?utm_medium=dswb&utm_source=bducopyrightlink&utm_content=000026UJ&utm_term=10006555&utm_id=NA-SkillsNetwork-Channel-SkillsNetworkCoursesIBMDeveloperSkillsNetworkDL0101ENSkillsNetwork945-2022-01-01&utm_campaign=bdu). This notebook and its source code are released under the terms of the [MIT License](https://bigdatauniversity.com/mit-license/?utm_medium=Exinfluencer&utm_source=Exinfluencer&utm_content=000026UJ&utm_term=10006555&utm_id=NA-SkillsNetwork-Channel-SkillsNetworkCoursesIBMDeveloperSkillsNetworkDL0101ENSkillsNetwork945-2022-01-01).\n"
   ]
  }
 ],
 "metadata": {
  "kernelspec": {
   "display_name": "Python 3 (ipykernel)",
   "language": "python",
   "name": "python3"
  },
  "language_info": {
   "codemirror_mode": {
    "name": "ipython",
    "version": 3
   },
   "file_extension": ".py",
   "mimetype": "text/x-python",
   "name": "python",
   "nbconvert_exporter": "python",
   "pygments_lexer": "ipython3",
   "version": "3.10.12"
  }
 },
 "nbformat": 4,
 "nbformat_minor": 4
}
